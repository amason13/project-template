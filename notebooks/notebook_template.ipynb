{
 "cells": [
  {
   "cell_type": "markdown",
   "id": "e67f59f6-227c-463b-b141-b4e53afc7383",
   "metadata": {},
   "source": [
    "# Template Jupyter notebook\n",
    "\n",
    "Duplicate this template each time you want to create a new notebook"
   ]
  },
  {
   "cell_type": "markdown",
   "id": "723ac5ae-4fb6-4b45-937e-478c1e50193f",
   "metadata": {},
   "source": [
    "## 1. Section 1"
   ]
  },
  {
   "cell_type": "code",
   "execution_count": 1,
   "id": "3ff647cf-fc93-451d-9591-7533ef58bf3d",
   "metadata": {},
   "outputs": [],
   "source": [
    "# import libraries installed from our requirements.txt file\n",
    "import requests\n",
    "import pandas as pd\n",
    "import numpy as np\n",
    "\n",
    "# import helper functions and environment variables\n",
    "from src.helpers import *\n",
    "from src.config import *"
   ]
  },
  {
   "cell_type": "markdown",
   "id": "abff24ee-a003-4ed4-8104-aacf585e03c0",
   "metadata": {},
   "source": [
    "## 2. Section 2"
   ]
  },
  {
   "cell_type": "code",
   "execution_count": 2,
   "id": "0314590f-aa54-4b5d-9f6b-e8218eaf765d",
   "metadata": {},
   "outputs": [
    {
     "data": {
      "text/plain": [
       "6"
      ]
     },
     "execution_count": 2,
     "metadata": {},
     "output_type": "execute_result"
    }
   ],
   "source": [
    "# Calling a function that we defined in src.helpers\n",
    "template_function(1,2,3)"
   ]
  },
  {
   "cell_type": "code",
   "execution_count": 4,
   "id": "932a9c47-9999-4efd-8b1d-6b0415d6bc4e",
   "metadata": {},
   "outputs": [
    {
     "data": {
      "text/plain": [
       "12"
      ]
     },
     "execution_count": 4,
     "metadata": {},
     "output_type": "execute_result"
    }
   ],
   "source": [
    "# If you type a function that we've imported from src.helpers then press shift + tab, \n",
    "# you can see the lovely docstring that we wrote explaining exactly what the function does.\n",
    "template_function(2,4,6)"
   ]
  },
  {
   "cell_type": "markdown",
   "id": "eee355cf-b2bc-47da-a193-8d3bd928dc05",
   "metadata": {},
   "source": [
    "## 3. Section 3"
   ]
  },
  {
   "cell_type": "code",
   "execution_count": 5,
   "id": "60728f4f-5c42-41fb-b515-f2315c5a51bb",
   "metadata": {},
   "outputs": [
    {
     "name": "stdout",
     "output_type": "stream",
     "text": [
      "abc123\n"
     ]
    }
   ],
   "source": [
    "# Calling an environment variable that we defined in src.config\n",
    "print(TV_API_KEY)"
   ]
  },
  {
   "cell_type": "code",
   "execution_count": null,
   "id": "05d19c12-40e5-4b43-99cf-4d87f014d8c3",
   "metadata": {},
   "outputs": [],
   "source": []
  }
 ],
 "metadata": {
  "kernelspec": {
   "display_name": "Python 3 (ipykernel)",
   "language": "python",
   "name": "python3"
  },
  "language_info": {
   "codemirror_mode": {
    "name": "ipython",
    "version": 3
   },
   "file_extension": ".py",
   "mimetype": "text/x-python",
   "name": "python",
   "nbconvert_exporter": "python",
   "pygments_lexer": "ipython3",
   "version": "3.8.5"
  }
 },
 "nbformat": 4,
 "nbformat_minor": 5
}
